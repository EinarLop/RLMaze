{
 "cells": [
  {
   "cell_type": "code",
   "execution_count": null,
   "metadata": {},
   "outputs": [],
   "source": [
    "!pip3 install matplotlib"
   ]
  },
  {
   "cell_type": "code",
   "execution_count": 1,
   "metadata": {},
   "outputs": [],
   "source": [
    "from matplotlib import pyplot as plt\n",
    "import random\n",
    "import numpy as np"
   ]
  },
  {
   "cell_type": "code",
   "execution_count": 48,
   "metadata": {},
   "outputs": [
    {
     "data": {
      "image/png": "[encoded data removed]",
      "text/plain": [
       "<Figure size 480x480 with 1 Axes>"
      ]
     },
     "metadata": {},
     "output_type": "display_data"
    }
   ],
   "source": [
    "\n",
    "env = [\n",
    "    [0, 0, 0, 100],\n",
    "    [0, -100, 0, 0],\n",
    "    [0, 0, 0, 0],\n",
    "    [0, 0, 0, 0]\n",
    "]\n",
    "plt.matshow(env)\n",
    "\n",
    "q_matrix = [\n",
    "    [[0,0,0,0], [0,0,0,0], [0,0,0,0], [0,0,0,0]],\n",
    "    [[0,0,0,0], [0,0,0,0], [0,0,0,0], [0,0,0,0]],\n",
    "    [[0,0,0,0], [0,0,0,0], [0,0,0,0], [0,0,0,0]],\n",
    "    [[0,0,0,0], [0,0,0,0], [0,0,0,0], [0,0,0,0]]\n",
    "]\n",
    "\n",
    "win_state = [0,3]\n",
    "loss_state = [1,1]\n",
    "\n",
    "\n"
   ]
  },
  {
   "cell_type": "code",
   "execution_count": 44,
   "metadata": {},
   "outputs": [],
   "source": [
    "\n",
    "\n",
    "def get_possible_actions(current_pos):\n",
    "    # N(0), S(1), E(2), W(3) \n",
    "    actions =[]\n",
    "    if current_pos[0] > 0:\n",
    "        actions.append(0)\n",
    "    if current_pos[0] < len(env)-1:\n",
    "        actions.append(1)\n",
    "    if current_pos[1] < len(env[0])-1:\n",
    "        actions.append(2)\n",
    "    if current_pos[1] > 0:\n",
    "        actions.append(3)\n",
    "    return actions\n",
    "\n",
    "def game_complete(current_pos):\n",
    "    return current_pos == win_state or current_pos == loss_state \n",
    "\n",
    "def goal_reached(current_pos):\n",
    "    return current_pos == win_state\n",
    "\n",
    "def get_next_state(current_pos, action):\n",
    "    if(action == 0):\n",
    "        return [current_pos[0] - 1,current_pos[1]] \n",
    "    elif (action == 1):\n",
    "        return [current_pos[0] + 1,current_pos[1]] \n",
    "    elif (action == 2):\n",
    "        return [current_pos[0],current_pos[1]+1]\n",
    "    else:\n",
    "        return [current_pos[0],current_pos[1]-1] \n"
   ]
  },
  {
   "cell_type": "code",
   "execution_count": 47,
   "metadata": {},
   "outputs": [
    {
     "name": "stdout",
     "output_type": "stream",
     "text": [
      "[[80.99745297 89.99893521 99.99978813  0.        ]\n",
      " [72.89163138  0.         89.99995439 99.99999879]\n",
      " [65.60995809 72.89997496 80.99999194 89.9999971 ]\n",
      " [59.04895629 65.60996997 72.89998784 80.99999526]]\n",
      "[[2 2 2 0]\n",
      " [0 0 2 0]\n",
      " [2 2 2 0]\n",
      " [2 2 2 0]]\n"
     ]
    },
    {
     "data": {
      "text/plain": [
       "<matplotlib.image.AxesImage at 0x11d07eaa0>"
      ]
     },
     "execution_count": 47,
     "metadata": {},
     "output_type": "execute_result"
    },
    {
     "data": {
      "image/png": "[encoded data removed]",
      "text/plain": [
       "<Figure size 480x480 with 1 Axes>"
      ]
     },
     "metadata": {},
     "output_type": "display_data"
    }
   ],
   "source": [
    "discount = 0.9\n",
    "learning_rate = 0.1\n",
    "\n",
    "for _ in range(10):\n",
    "    current_pos = [random.randint(0, len(env)-1), random.randint(0, len(env)-1)]\n",
    "    while(not game_complete(current_pos)):\n",
    "        possible_actions = get_possible_actions(current_pos)\n",
    "        action = random.choice(possible_actions)\n",
    "        next_state = get_next_state(current_pos, action)\n",
    "        q_matrix[current_pos[0]][current_pos[1]][action] = q_matrix[current_pos[0]][current_pos[1]][action] + learning_rate * (env[next_state[0]][next_state[1]] + discount *  max(q_matrix[next_state[0]][next_state[1]]) - q_matrix[current_pos[0]][current_pos[1]][action])\n",
    "        current_pos = next_state\n",
    "      \n",
    "\n",
    "# print(np.round(q_matrix))\n",
    "# print(\"=============\")\n",
    "\n",
    "values = []\n",
    "directions = []\n",
    "\n",
    "for row in q_matrix:\n",
    "    for column in row:\n",
    "        # max(column)\n",
    "        # print(np.argmax(column), column[np.argmax(column)])\n",
    "        values.append(column[np.argmax(column)])\n",
    "        directions.append(np.argmax(column))\n",
    "\n",
    "\n",
    "values = np.reshape(values,(4,4))\n",
    "directions = np.reshape(directions,(4,4))\n",
    "\n",
    "print(values)\n",
    "print(directions)\n",
    "\n",
    "\n",
    "plt.matshow(values)\n",
    "\n",
    "\n"
   ]
  }
 ],
 "metadata": {
  "kernelspec": {
   "display_name": "Python 3",
   "language": "python",
   "name": "python3"
  },
  "language_info": {
   "codemirror_mode": {
    "name": "ipython",
    "version": 3
   },
   "file_extension": ".py",
   "mimetype": "text/x-python",
   "name": "python",
   "nbconvert_exporter": "python",
   "pygments_lexer": "ipython3",
   "version": "3.10.8"
  },
  "orig_nbformat": 4,
  "vscode": {
   "interpreter": {
    "hash": "b0fa6594d8f4cbf19f97940f81e996739fb7646882a419484c72d19e05852a7e"
   }
  }
 },
 "nbformat": 4,
 "nbformat_minor": 2
}
