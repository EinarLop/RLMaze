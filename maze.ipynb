{
 "cells": [
  {
   "cell_type": "code",
   "execution_count": null,
   "metadata": {},
   "outputs": [],
   "source": [
    "!pip3 install matplotlib"
   ]
  },
  {
   "cell_type": "code",
   "execution_count": 2,
   "metadata": {},
   "outputs": [],
   "source": [
    "from matplotlib import pyplot as plt\n",
    "import random\n",
    "import numpy as np"
   ]
  },
  {
   "cell_type": "code",
   "execution_count": 99,
   "metadata": {},
   "outputs": [],
   "source": [
    "WIDTH = 10\n",
    "HEIGHT = 10\n",
    "WIN_STATE = [5,5]\n",
    "LOSS_STATES = [[4,4], [4,6], [5,6], [5,4],[6,4], [6,6]]\n"
   ]
  },
  {
   "cell_type": "code",
   "execution_count": 100,
   "metadata": {},
   "outputs": [],
   "source": [
    "def generate_env_q_matrix(height, width, loss_states, win_state):\n",
    "    env = [[0 for x in range(width)] for y in range(height)]\n",
    "    for loss_state in loss_states:\n",
    "        env[loss_state[0]][loss_state[1]] = -100\n",
    "    env[win_state[0]][win_state[1]] = 100\n",
    "\n",
    "\n",
    "    q_matrix = [[[0,0,0,0] for x in range(width)] for y in range(height)]\n",
    "    return env, q_matrix\n",
    "\n"
   ]
  },
  {
   "cell_type": "code",
   "execution_count": 101,
   "metadata": {},
   "outputs": [
    {
     "data": {
      "text/plain": [
       "<matplotlib.image.AxesImage at 0x11f88eb90>"
      ]
     },
     "execution_count": 101,
     "metadata": {},
     "output_type": "execute_result"
    },
    {
     "data": {
      "image/png": "[encoded data removed]",
      "text/plain": [
       "<Figure size 480x480 with 1 Axes>"
      ]
     },
     "metadata": {},
     "output_type": "display_data"
    }
   ],
   "source": [
    "env, q_matrix = generate_env_q_matrix (HEIGHT ,WIDTH, LOSS_STATES, WIN_STATE)\n",
    "plt.matshow(env)\n"
   ]
  },
  {
   "cell_type": "code",
   "execution_count": 74,
   "metadata": {},
   "outputs": [],
   "source": [
    "\n",
    "\n",
    "def get_possible_actions(current_pos):\n",
    "    # N(0), S(1), E(2), W(3) \n",
    "    actions =[]\n",
    "    if current_pos[0] > 0:\n",
    "        actions.append(0)\n",
    "    if current_pos[0] < len(env)-1:\n",
    "        actions.append(1)\n",
    "    if current_pos[1] < len(env[0])-1:\n",
    "        actions.append(2)\n",
    "    if current_pos[1] > 0:\n",
    "        actions.append(3)\n",
    "    return actions\n",
    "\n",
    "def game_complete(current_pos):\n",
    "    return current_pos == WIN_STATE or current_pos in LOSS_STATES\n",
    "\n",
    "def goal_reached(current_pos):\n",
    "    return current_pos == WIN_STATE\n",
    "\n",
    "def get_next_state(current_pos, action):\n",
    "    if(action == 0):\n",
    "        return [current_pos[0] - 1,current_pos[1]] \n",
    "    elif (action == 1):\n",
    "        return [current_pos[0] + 1,current_pos[1]] \n",
    "    elif (action == 2):\n",
    "        return [current_pos[0],current_pos[1]+1]\n",
    "    else:\n",
    "        return [current_pos[0],current_pos[1]-1] \n"
   ]
  },
  {
   "cell_type": "code",
   "execution_count": 113,
   "metadata": {},
   "outputs": [
    {
     "data": {
      "text/plain": [
       "<matplotlib.image.AxesImage at 0x11fde4400>"
      ]
     },
     "execution_count": 113,
     "metadata": {},
     "output_type": "execute_result"
    },
    {
     "data": {
      "image/png": "[encoded data removed]",
      "text/plain": [
       "<Figure size 480x480 with 1 Axes>"
      ]
     },
     "metadata": {},
     "output_type": "display_data"
    }
   ],
   "source": [
    "discount = 0.9\n",
    "learning_rate = 0.1\n",
    "\n",
    "for _ in range(10000):\n",
    "    current_pos = [random.randint(0, len(env)-1), random.randint(0, len(env)-1)]\n",
    "    while(not game_complete(current_pos)):\n",
    "        possible_actions = get_possible_actions(current_pos)\n",
    "        action = random.choice(possible_actions)\n",
    "        next_state = get_next_state(current_pos, action)\n",
    "        q_matrix[current_pos[0]][current_pos[1]][action] = q_matrix[current_pos[0]][current_pos[1]][action] + learning_rate * (env[next_state[0]][next_state[1]] + discount *  max(q_matrix[next_state[0]][next_state[1]]) - q_matrix[current_pos[0]][current_pos[1]][action])\n",
    "        current_pos = next_state\n",
    "      \n",
    "\n",
    "\n",
    "\n",
    "values = []\n",
    "directions = []\n",
    "\n",
    "for row in q_matrix:\n",
    "    for column in row:\n",
    "        values.append(column[np.argmax(column)])\n",
    "        directions.append(np.argmax(column))\n",
    "\n",
    "\n",
    "values = np.reshape(values,(HEIGHT,WIDTH))\n",
    "directions = np.reshape(directions,(HEIGHT,WIDTH))\n",
    "\n",
    "values[WIN_STATE[0]][WIN_STATE[1]] =  120\n",
    "\n",
    "\n",
    "\n",
    "plt.matshow(values)\n",
    "\n",
    "\n"
   ]
  }
 ],
 "metadata": {
  "kernelspec": {
   "display_name": "Python 3",
   "language": "python",
   "name": "python3"
  },
  "language_info": {
   "codemirror_mode": {
    "name": "ipython",
    "version": 3
   },
   "file_extension": ".py",
   "mimetype": "text/x-python",
   "name": "python",
   "nbconvert_exporter": "python",
   "pygments_lexer": "ipython3",
   "version": "3.10.8"
  },
  "orig_nbformat": 4,
  "vscode": {
   "interpreter": {
    "hash": "b0fa6594d8f4cbf19f97940f81e996739fb7646882a419484c72d19e05852a7e"
   }
  }
 },
 "nbformat": 4,
 "nbformat_minor": 2
}
